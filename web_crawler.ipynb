{
 "cells": [
  {
   "cell_type": "code",
   "execution_count": 1,
   "metadata": {},
   "outputs": [],
   "source": [
    "from bs4 import BeautifulSoup\n",
    "import requests\n",
    "import pandas as pd\n",
    "import plotly_express as px  # import plotly.express as px\n",
    "import plotly.graph_objects as go"
   ]
  },
  {
   "cell_type": "code",
   "execution_count": 2,
   "metadata": {},
   "outputs": [],
   "source": [
    "def fetch_booking_data(location, checkin_date, checkout_date):\n",
    "    url = f'https://www.booking.com/searchresults.html?ss={location_input}&checkin={checkin_date_input}&checkout={checkout_date_input}&group_adults=2&no_rooms=1&group_children=0&lang=zh-tw&soz=1&lang_changed=1'\n",
    "    headers = {\n",
    "        'User-Agent': 'Mozilla/5.0 (X11; CrOS x86_64 8172.45.0) AppleWebKit/537.36 (KHTML, like Gecko) Chrome/51.0.2704.64 Safari/537.36',\n",
    "        'Accept-Language': 'en-US, en;q=0.5'\n",
    "    }\n",
    "    list_ = ['', '&offset=25', '&offset=50', '&offset=75', '&offset=100']\n",
    "    hotels_data = []\n",
    "\n",
    "    # change the next page\n",
    "    for page in list_:\n",
    "        if len(hotels_data) > 99:\n",
    "            break\n",
    "        response  = requests.get(url + page, headers=headers)\n",
    "        soup = BeautifulSoup(response.text, 'html.parser')\n",
    "\n",
    "        # Find all the hotel elements in the HTML document\n",
    "        hotels = soup.findAll('div', {'data-testid': 'property-card'})\n",
    "\n",
    "        # Loop over the hotel elements and extract the desired data\n",
    "        for hotel in hotels:\n",
    "            # Extract the hotel name\n",
    "            name_element = hotel.find('div', {'data-testid': 'title'})\n",
    "            name = name_element.text.strip()\n",
    "\n",
    "            # Extract the hotel location\n",
    "            location_element = hotel.find('span', {'data-testid': 'address'})\n",
    "            location = location_element.text.strip()\n",
    "\n",
    "            # Extract the hotel price\n",
    "            price_element = hotel.find('span', {'data-testid': 'price-and-discounted-price'})\n",
    "            if price_element:\n",
    "                price = price_element.text.strip()\n",
    "            else:\n",
    "                price = 'N/A'\n",
    "            \n",
    "            # Extract the hotel rating\n",
    "            rating_element = hotel.find('div', {'class': 'a3b8729ab1 d86cee9b25'})\n",
    "            if rating_element:\n",
    "                rating = rating_element.text.strip()\n",
    "            else:\n",
    "                rating = 'N/A'\n",
    "            \n",
    "            # Extract the hotel distance\n",
    "            distance_element = hotel.find('span', {'data-testid': 'distance'})\n",
    "            if distance_element:\n",
    "                distance = distance_element.text.strip()\n",
    "            else:\n",
    "                distance = 'N/A'\n",
    "            #  Extract the hotel comments\n",
    "            comments_element = hotel.find('div', {'class': 'a3b8729ab1 e6208ee469 cb2cbb3ccb'})\n",
    "            if comments_element:\n",
    "                comments = comments_element.text.strip()\n",
    "            else:\n",
    "                comments = 'N/A'\n",
    "\n",
    "            # data cleaning\n",
    "            check_list = [name, location, price, rating, distance, comments]\n",
    "            if 'N/A' in check_list or name in [i['name'] for i in hotels_data]:\n",
    "                continue\n",
    "            else:\n",
    "                price = int(''.join(c for c in price if c.isdigit()))\n",
    "                rating = float(rating)\n",
    "                distance = float(''.join(c for c in distance if c.isdigit())) / 1000\n",
    "\n",
    "            # Append hotes_data with info about hotel\n",
    "            hotels_data.append({\n",
    "                'name': name,\n",
    "                'location': location,\n",
    "                'price': price,\n",
    "                'rating': rating,\n",
    "                'distance': distance,\n",
    "                'comments': comments\n",
    "            })\n",
    "            if len(hotels_data) > 99:\n",
    "                break\n",
    "\n",
    "    hotels = pd.DataFrame(hotels_data)\n",
    "    hotels.to_csv('hotels.csv', header=True, index=False)\n",
    "\n",
    "    # Step 3: Data Visualization\n",
    "    fig = px.scatter(\n",
    "        hotels,  # 数据集\n",
    "        x=\"price\",  # x轴\n",
    "        y=\"distance\",  # y轴\n",
    "        color=\"rating\",  # 指定颜色\n",
    "        title=\"Hotel Price and Distance Scatter Plot\", # 標題\n",
    "        hover_name=\"name\",\n",
    "        hover_data=['price', 'distance', 'rating']\n",
    "    )\n",
    "    fig.show()\n"
   ]
  },
  {
   "cell_type": "code",
   "execution_count": 3,
   "metadata": {},
   "outputs": [
    {
     "data": {
      "application/vnd.plotly.v1+json": {
       "config": {
        "plotlyServerURL": "https://plot.ly"
       },
       "data": [
        {
         "customdata": [
          [
           7.3
          ],
          [
           8.6
          ],
          [
           7.9
          ],
          [
           8.1
          ],
          [
           9.3
          ],
          [
           8.8
          ],
          [
           8.6
          ],
          [
           8.3
          ],
          [
           8.3
          ],
          [
           7.9
          ],
          [
           7.8
          ],
          [
           8.6
          ],
          [
           8.1
          ],
          [
           9
          ],
          [
           8.3
          ],
          [
           8.1
          ],
          [
           8.5
          ],
          [
           7.9
          ],
          [
           8.4
          ],
          [
           8.1
          ],
          [
           8.2
          ],
          [
           8.7
          ],
          [
           9.3
          ],
          [
           8.3
          ],
          [
           8.5
          ],
          [
           8.2
          ],
          [
           9.2
          ],
          [
           8.9
          ],
          [
           8.4
          ],
          [
           7.2
          ],
          [
           8.1
          ],
          [
           7.6
          ],
          [
           7.5
          ],
          [
           7.8
          ],
          [
           7.9
          ],
          [
           8.4
          ],
          [
           6.8
          ],
          [
           8.2
          ],
          [
           7.8
          ],
          [
           9.1
          ],
          [
           8.6
          ],
          [
           7.2
          ],
          [
           8.3
          ],
          [
           7.6
          ],
          [
           8.6
          ],
          [
           8.1
          ],
          [
           8.1
          ],
          [
           8.2
          ],
          [
           7.3
          ],
          [
           8
          ],
          [
           9.3
          ],
          [
           7.6
          ],
          [
           8.1
          ],
          [
           7.7
          ],
          [
           8.6
          ],
          [
           7.4
          ],
          [
           8.3
          ],
          [
           7.8
          ],
          [
           8.8
          ],
          [
           9
          ],
          [
           8.5
          ],
          [
           8.3
          ],
          [
           7.9
          ],
          [
           8.7
          ],
          [
           7.2
          ],
          [
           8.9
          ],
          [
           8.1
          ],
          [
           8.1
          ],
          [
           7.4
          ],
          [
           7.3
          ],
          [
           8
          ],
          [
           7.9
          ],
          [
           7.7
          ],
          [
           8.6
          ],
          [
           7.4
          ],
          [
           8.9
          ],
          [
           8.5
          ],
          [
           9
          ],
          [
           8.4
          ],
          [
           8.3
          ],
          [
           7.8
          ],
          [
           8.5
          ],
          [
           7.8
          ],
          [
           8.1
          ],
          [
           8.3
          ],
          [
           8.1
          ],
          [
           8.6
          ],
          [
           8.7
          ],
          [
           8.9
          ],
          [
           8.4
          ],
          [
           8.4
          ],
          [
           7.8
          ],
          [
           8.3
          ],
          [
           8.6
          ],
          [
           7.8
          ],
          [
           7.2
          ],
          [
           8.7
          ],
          [
           7.8
          ],
          [
           8.2
          ],
          [
           7.8
          ]
         ],
         "hovertemplate": "<b>%{hovertext}</b><br><br>price=%{x}<br>distance=%{y}<br>rating=%{marker.color}<extra></extra>",
         "hovertext": [
          "沃客商旅 - 成功館",
          "苓旅中山館-Lininn ZhongShan",
          "華水亭",
          "優美飯店-雙連MRT",
          "合星青年旅館",
          "板橋凱撒大飯店",
          "Wonderwall美好境界西門館",
          "洛碁大飯店南港館",
          "台北凱達大飯店",
          "窩旅舍",
          "千彩格精品旅店",
          "喜瑞飯店",
          "谷墨商旅",
          "和苑三井花園飯店台北忠孝",
          "洛碁大飯店松山館",
          "趣旅館．林森館",
          "宜家商旅",
          "意芙旅店 Ifinn Hotel",
          "路境行旅-府前館",
          "苓旅-站前 Lin Inn TMS",
          "台北六福萬怡酒店",
          "台北北門世民酒店",
          "美福大飯店",
          "台北馥敦飯店復南館",
          "新凱商務飯店",
          "台北漢來大飯店",
          "台北時代寓所-希爾頓啟繽精選酒店",
          "丹迪旅店- 天母店",
          "悠趣旅店",
          "泊居旅店 Oursinn Hotel",
          "台北碧瑤飯店 Hotel B",
          "洛碁大飯店山水閣",
          "喜客商旅 Seeker Hotel - Sanchong",
          "華大旅店-南西館",
          "漫映旅舍",
          "旅樂序精品旅館站前五館",
          "新獅城商務旅店",
          "昇美精品旅店",
          "Sunrise Hotel",
          "台北國泰萬怡酒店",
          "台北W 酒店",
          "沃客商旅 - 三重館",
          "艾爾行旅",
          "唯樂米窩",
          "雀客旅館新北蘆洲",
          "台北旅坊",
          "RF富裕自由旅店 - 林森館",
          "葳皇時尚飯店",
          "上格大飯店",
          "洛碁大飯店中華館",
          "信星青年旅館- 台北車站",
          "品格子旅店北車館",
          "台北互舍酒店 - 試營運",
          "約克設計旅店",
          "悠逸商旅台北士林",
          "101艾美琪旅店六星級背包客",
          "T.O. Hotel 台北車站",
          "陽光士林珮柏旅館",
          "多郎明哥商務旅館",
          "北門臥客青年旅舍",
          "晴悅旅店",
          "怡品商旅",
          "貴族商務飯店",
          "晶華酒店",
          "貝斯特旅店",
          "和逸飯店．台北忠孝館",
          "南陽街壹號旅店",
          "艾捷天麗",
          "探索汽車旅館-延平舘",
          "沃客商旅 承德館",
          "雅莊商務旅館",
          "I Play Inn TP",
          "正點商務旅店",
          "台北萬豪酒店",
          "嘉賓閣溫泉會館",
          "台北亞都麗緻大飯店",
          "Simple+ 飯店",
          "丹迪旅店-天津店",
          "洛碁大飯店三貝茲",
          "天閣酒店台北信義",
          "雀客旅館台北信義",
          "天雲旅棧台北基河館",
          "台北桃禧大飯店",
          "雲沐行旅",
          "城市商旅- 南東館",
          "皇后旅店二館",
          "見潭璞旅",
          "寒居酒店",
          "兄弟大飯店",
          "台北東旅",
          "松哖酒店",
          "RF富裕自由商旅 - 忠孝館",
          "洛碁大飯店建北館",
          "富逸旅趣-北車開封館",
          "台北集賢商旅",
          "睡覺盒子青年旅館",
          "台北星辰大飯店",
          "美亞商旅",
          "洛碁大飯店舞衣南京館",
          "家賓旅店"
         ],
         "legendgroup": "",
         "marker": {
          "color": [
           7.3,
           8.6,
           7.9,
           8.1,
           9.3,
           8.8,
           8.6,
           8.3,
           8.3,
           7.9,
           7.8,
           8.6,
           8.1,
           9,
           8.3,
           8.1,
           8.5,
           7.9,
           8.4,
           8.1,
           8.2,
           8.7,
           9.3,
           8.3,
           8.5,
           8.2,
           9.2,
           8.9,
           8.4,
           7.2,
           8.1,
           7.6,
           7.5,
           7.8,
           7.9,
           8.4,
           6.8,
           8.2,
           7.8,
           9.1,
           8.6,
           7.2,
           8.3,
           7.6,
           8.6,
           8.1,
           8.1,
           8.2,
           7.3,
           8,
           9.3,
           7.6,
           8.1,
           7.7,
           8.6,
           7.4,
           8.3,
           7.8,
           8.8,
           9,
           8.5,
           8.3,
           7.9,
           8.7,
           7.2,
           8.9,
           8.1,
           8.1,
           7.4,
           7.3,
           8,
           7.9,
           7.7,
           8.6,
           7.4,
           8.9,
           8.5,
           9,
           8.4,
           8.3,
           7.8,
           8.5,
           7.8,
           8.1,
           8.3,
           8.1,
           8.6,
           8.7,
           8.9,
           8.4,
           8.4,
           7.8,
           8.3,
           8.6,
           7.8,
           7.2,
           8.7,
           7.8,
           8.2,
           7.8
          ],
          "coloraxis": "coloraxis",
          "symbol": "circle"
         },
         "mode": "markers",
         "name": "",
         "orientation": "v",
         "showlegend": false,
         "type": "scatter",
         "x": [
          1267,
          1880,
          1215,
          2644,
          2875,
          4700,
          1216,
          2640,
          3300,
          745,
          1633,
          3780,
          1880,
          6790,
          2820,
          1798,
          2601,
          1920,
          2849,
          1880,
          6200,
          4750,
          7221,
          5593,
          1692,
          6642,
          7763,
          2582,
          2562,
          1877,
          2200,
          2759,
          1286,
          1260,
          2000,
          3042,
          1300,
          2196,
          2380,
          8000,
          15000,
          1158,
          2190,
          1869,
          2794,
          2250,
          2632,
          1880,
          979,
          3472,
          3900,
          1620,
          2900,
          2430,
          2500,
          2423,
          2389,
          2650,
          2445,
          2805,
          1980,
          2412,
          1980,
          8143,
          1400,
          5200,
          1800,
          2560,
          2100,
          1872,
          1780,
          1854,
          1800,
          10600,
          2970,
          6082,
          3300,
          4200,
          2760,
          3402,
          2459,
          2268,
          2588,
          1913,
          2444,
          2080,
          3763,
          6209,
          4650,
          3482,
          4300,
          2566,
          4464,
          3463,
          2196,
          1090,
          2903,
          4253,
          1913,
          1580
         ],
         "xaxis": "x",
         "y": [
          0.003,
          0.024,
          0.008,
          0.014,
          0.033,
          0.067,
          0.011,
          0.095,
          0.023,
          0.044,
          0.013,
          0.012,
          0.025,
          0.017,
          0.067,
          0.019,
          0.079,
          0.016,
          0.006,
          0.35,
          0.009,
          0.007,
          0.052,
          0.031,
          0.025,
          0.103,
          0.006,
          0.077,
          0.027,
          0.013,
          0.027,
          0.002,
          0.036,
          0.001,
          0.014,
          0.45,
          0.5,
          0.013,
          0.005,
          0.024,
          0.049,
          0.003,
          0.031,
          0.014,
          0.054,
          0.017,
          0.009,
          0.016,
          0.003,
          0.008,
          0.005,
          0.1,
          0.016,
          0.2,
          0.048,
          0.026,
          0.35,
          0.052,
          0.024,
          0.001,
          0.021,
          0.031,
          0.071,
          0.011,
          0.058,
          0.008,
          0.15,
          0.039,
          0.038,
          0.078,
          0.033,
          0.011,
          0.068,
          0.057,
          0.01,
          0.022,
          0.028,
          0.008,
          0.041,
          0.056,
          0.044,
          0.042,
          0.007,
          0.035,
          0.053,
          0.001,
          0.048,
          0.016,
          0.028,
          0.043,
          0.019,
          0.037,
          0.002,
          0.005,
          0.056,
          0.007,
          0.015,
          0.2,
          0.002,
          0.065
         ],
         "yaxis": "y"
        }
       ],
       "layout": {
        "coloraxis": {
         "colorbar": {
          "title": {
           "text": "rating"
          }
         },
         "colorscale": [
          [
           0,
           "#0d0887"
          ],
          [
           0.1111111111111111,
           "#46039f"
          ],
          [
           0.2222222222222222,
           "#7201a8"
          ],
          [
           0.3333333333333333,
           "#9c179e"
          ],
          [
           0.4444444444444444,
           "#bd3786"
          ],
          [
           0.5555555555555556,
           "#d8576b"
          ],
          [
           0.6666666666666666,
           "#ed7953"
          ],
          [
           0.7777777777777778,
           "#fb9f3a"
          ],
          [
           0.8888888888888888,
           "#fdca26"
          ],
          [
           1,
           "#f0f921"
          ]
         ]
        },
        "legend": {
         "tracegroupgap": 0
        },
        "template": {
         "data": {
          "bar": [
           {
            "error_x": {
             "color": "#2a3f5f"
            },
            "error_y": {
             "color": "#2a3f5f"
            },
            "marker": {
             "line": {
              "color": "#E5ECF6",
              "width": 0.5
             },
             "pattern": {
              "fillmode": "overlay",
              "size": 10,
              "solidity": 0.2
             }
            },
            "type": "bar"
           }
          ],
          "barpolar": [
           {
            "marker": {
             "line": {
              "color": "#E5ECF6",
              "width": 0.5
             },
             "pattern": {
              "fillmode": "overlay",
              "size": 10,
              "solidity": 0.2
             }
            },
            "type": "barpolar"
           }
          ],
          "carpet": [
           {
            "aaxis": {
             "endlinecolor": "#2a3f5f",
             "gridcolor": "white",
             "linecolor": "white",
             "minorgridcolor": "white",
             "startlinecolor": "#2a3f5f"
            },
            "baxis": {
             "endlinecolor": "#2a3f5f",
             "gridcolor": "white",
             "linecolor": "white",
             "minorgridcolor": "white",
             "startlinecolor": "#2a3f5f"
            },
            "type": "carpet"
           }
          ],
          "choropleth": [
           {
            "colorbar": {
             "outlinewidth": 0,
             "ticks": ""
            },
            "type": "choropleth"
           }
          ],
          "contour": [
           {
            "colorbar": {
             "outlinewidth": 0,
             "ticks": ""
            },
            "colorscale": [
             [
              0,
              "#0d0887"
             ],
             [
              0.1111111111111111,
              "#46039f"
             ],
             [
              0.2222222222222222,
              "#7201a8"
             ],
             [
              0.3333333333333333,
              "#9c179e"
             ],
             [
              0.4444444444444444,
              "#bd3786"
             ],
             [
              0.5555555555555556,
              "#d8576b"
             ],
             [
              0.6666666666666666,
              "#ed7953"
             ],
             [
              0.7777777777777778,
              "#fb9f3a"
             ],
             [
              0.8888888888888888,
              "#fdca26"
             ],
             [
              1,
              "#f0f921"
             ]
            ],
            "type": "contour"
           }
          ],
          "contourcarpet": [
           {
            "colorbar": {
             "outlinewidth": 0,
             "ticks": ""
            },
            "type": "contourcarpet"
           }
          ],
          "heatmap": [
           {
            "colorbar": {
             "outlinewidth": 0,
             "ticks": ""
            },
            "colorscale": [
             [
              0,
              "#0d0887"
             ],
             [
              0.1111111111111111,
              "#46039f"
             ],
             [
              0.2222222222222222,
              "#7201a8"
             ],
             [
              0.3333333333333333,
              "#9c179e"
             ],
             [
              0.4444444444444444,
              "#bd3786"
             ],
             [
              0.5555555555555556,
              "#d8576b"
             ],
             [
              0.6666666666666666,
              "#ed7953"
             ],
             [
              0.7777777777777778,
              "#fb9f3a"
             ],
             [
              0.8888888888888888,
              "#fdca26"
             ],
             [
              1,
              "#f0f921"
             ]
            ],
            "type": "heatmap"
           }
          ],
          "heatmapgl": [
           {
            "colorbar": {
             "outlinewidth": 0,
             "ticks": ""
            },
            "colorscale": [
             [
              0,
              "#0d0887"
             ],
             [
              0.1111111111111111,
              "#46039f"
             ],
             [
              0.2222222222222222,
              "#7201a8"
             ],
             [
              0.3333333333333333,
              "#9c179e"
             ],
             [
              0.4444444444444444,
              "#bd3786"
             ],
             [
              0.5555555555555556,
              "#d8576b"
             ],
             [
              0.6666666666666666,
              "#ed7953"
             ],
             [
              0.7777777777777778,
              "#fb9f3a"
             ],
             [
              0.8888888888888888,
              "#fdca26"
             ],
             [
              1,
              "#f0f921"
             ]
            ],
            "type": "heatmapgl"
           }
          ],
          "histogram": [
           {
            "marker": {
             "pattern": {
              "fillmode": "overlay",
              "size": 10,
              "solidity": 0.2
             }
            },
            "type": "histogram"
           }
          ],
          "histogram2d": [
           {
            "colorbar": {
             "outlinewidth": 0,
             "ticks": ""
            },
            "colorscale": [
             [
              0,
              "#0d0887"
             ],
             [
              0.1111111111111111,
              "#46039f"
             ],
             [
              0.2222222222222222,
              "#7201a8"
             ],
             [
              0.3333333333333333,
              "#9c179e"
             ],
             [
              0.4444444444444444,
              "#bd3786"
             ],
             [
              0.5555555555555556,
              "#d8576b"
             ],
             [
              0.6666666666666666,
              "#ed7953"
             ],
             [
              0.7777777777777778,
              "#fb9f3a"
             ],
             [
              0.8888888888888888,
              "#fdca26"
             ],
             [
              1,
              "#f0f921"
             ]
            ],
            "type": "histogram2d"
           }
          ],
          "histogram2dcontour": [
           {
            "colorbar": {
             "outlinewidth": 0,
             "ticks": ""
            },
            "colorscale": [
             [
              0,
              "#0d0887"
             ],
             [
              0.1111111111111111,
              "#46039f"
             ],
             [
              0.2222222222222222,
              "#7201a8"
             ],
             [
              0.3333333333333333,
              "#9c179e"
             ],
             [
              0.4444444444444444,
              "#bd3786"
             ],
             [
              0.5555555555555556,
              "#d8576b"
             ],
             [
              0.6666666666666666,
              "#ed7953"
             ],
             [
              0.7777777777777778,
              "#fb9f3a"
             ],
             [
              0.8888888888888888,
              "#fdca26"
             ],
             [
              1,
              "#f0f921"
             ]
            ],
            "type": "histogram2dcontour"
           }
          ],
          "mesh3d": [
           {
            "colorbar": {
             "outlinewidth": 0,
             "ticks": ""
            },
            "type": "mesh3d"
           }
          ],
          "parcoords": [
           {
            "line": {
             "colorbar": {
              "outlinewidth": 0,
              "ticks": ""
             }
            },
            "type": "parcoords"
           }
          ],
          "pie": [
           {
            "automargin": true,
            "type": "pie"
           }
          ],
          "scatter": [
           {
            "fillpattern": {
             "fillmode": "overlay",
             "size": 10,
             "solidity": 0.2
            },
            "type": "scatter"
           }
          ],
          "scatter3d": [
           {
            "line": {
             "colorbar": {
              "outlinewidth": 0,
              "ticks": ""
             }
            },
            "marker": {
             "colorbar": {
              "outlinewidth": 0,
              "ticks": ""
             }
            },
            "type": "scatter3d"
           }
          ],
          "scattercarpet": [
           {
            "marker": {
             "colorbar": {
              "outlinewidth": 0,
              "ticks": ""
             }
            },
            "type": "scattercarpet"
           }
          ],
          "scattergeo": [
           {
            "marker": {
             "colorbar": {
              "outlinewidth": 0,
              "ticks": ""
             }
            },
            "type": "scattergeo"
           }
          ],
          "scattergl": [
           {
            "marker": {
             "colorbar": {
              "outlinewidth": 0,
              "ticks": ""
             }
            },
            "type": "scattergl"
           }
          ],
          "scattermapbox": [
           {
            "marker": {
             "colorbar": {
              "outlinewidth": 0,
              "ticks": ""
             }
            },
            "type": "scattermapbox"
           }
          ],
          "scatterpolar": [
           {
            "marker": {
             "colorbar": {
              "outlinewidth": 0,
              "ticks": ""
             }
            },
            "type": "scatterpolar"
           }
          ],
          "scatterpolargl": [
           {
            "marker": {
             "colorbar": {
              "outlinewidth": 0,
              "ticks": ""
             }
            },
            "type": "scatterpolargl"
           }
          ],
          "scatterternary": [
           {
            "marker": {
             "colorbar": {
              "outlinewidth": 0,
              "ticks": ""
             }
            },
            "type": "scatterternary"
           }
          ],
          "surface": [
           {
            "colorbar": {
             "outlinewidth": 0,
             "ticks": ""
            },
            "colorscale": [
             [
              0,
              "#0d0887"
             ],
             [
              0.1111111111111111,
              "#46039f"
             ],
             [
              0.2222222222222222,
              "#7201a8"
             ],
             [
              0.3333333333333333,
              "#9c179e"
             ],
             [
              0.4444444444444444,
              "#bd3786"
             ],
             [
              0.5555555555555556,
              "#d8576b"
             ],
             [
              0.6666666666666666,
              "#ed7953"
             ],
             [
              0.7777777777777778,
              "#fb9f3a"
             ],
             [
              0.8888888888888888,
              "#fdca26"
             ],
             [
              1,
              "#f0f921"
             ]
            ],
            "type": "surface"
           }
          ],
          "table": [
           {
            "cells": {
             "fill": {
              "color": "#EBF0F8"
             },
             "line": {
              "color": "white"
             }
            },
            "header": {
             "fill": {
              "color": "#C8D4E3"
             },
             "line": {
              "color": "white"
             }
            },
            "type": "table"
           }
          ]
         },
         "layout": {
          "annotationdefaults": {
           "arrowcolor": "#2a3f5f",
           "arrowhead": 0,
           "arrowwidth": 1
          },
          "autotypenumbers": "strict",
          "coloraxis": {
           "colorbar": {
            "outlinewidth": 0,
            "ticks": ""
           }
          },
          "colorscale": {
           "diverging": [
            [
             0,
             "#8e0152"
            ],
            [
             0.1,
             "#c51b7d"
            ],
            [
             0.2,
             "#de77ae"
            ],
            [
             0.3,
             "#f1b6da"
            ],
            [
             0.4,
             "#fde0ef"
            ],
            [
             0.5,
             "#f7f7f7"
            ],
            [
             0.6,
             "#e6f5d0"
            ],
            [
             0.7,
             "#b8e186"
            ],
            [
             0.8,
             "#7fbc41"
            ],
            [
             0.9,
             "#4d9221"
            ],
            [
             1,
             "#276419"
            ]
           ],
           "sequential": [
            [
             0,
             "#0d0887"
            ],
            [
             0.1111111111111111,
             "#46039f"
            ],
            [
             0.2222222222222222,
             "#7201a8"
            ],
            [
             0.3333333333333333,
             "#9c179e"
            ],
            [
             0.4444444444444444,
             "#bd3786"
            ],
            [
             0.5555555555555556,
             "#d8576b"
            ],
            [
             0.6666666666666666,
             "#ed7953"
            ],
            [
             0.7777777777777778,
             "#fb9f3a"
            ],
            [
             0.8888888888888888,
             "#fdca26"
            ],
            [
             1,
             "#f0f921"
            ]
           ],
           "sequentialminus": [
            [
             0,
             "#0d0887"
            ],
            [
             0.1111111111111111,
             "#46039f"
            ],
            [
             0.2222222222222222,
             "#7201a8"
            ],
            [
             0.3333333333333333,
             "#9c179e"
            ],
            [
             0.4444444444444444,
             "#bd3786"
            ],
            [
             0.5555555555555556,
             "#d8576b"
            ],
            [
             0.6666666666666666,
             "#ed7953"
            ],
            [
             0.7777777777777778,
             "#fb9f3a"
            ],
            [
             0.8888888888888888,
             "#fdca26"
            ],
            [
             1,
             "#f0f921"
            ]
           ]
          },
          "colorway": [
           "#636efa",
           "#EF553B",
           "#00cc96",
           "#ab63fa",
           "#FFA15A",
           "#19d3f3",
           "#FF6692",
           "#B6E880",
           "#FF97FF",
           "#FECB52"
          ],
          "font": {
           "color": "#2a3f5f"
          },
          "geo": {
           "bgcolor": "white",
           "lakecolor": "white",
           "landcolor": "#E5ECF6",
           "showlakes": true,
           "showland": true,
           "subunitcolor": "white"
          },
          "hoverlabel": {
           "align": "left"
          },
          "hovermode": "closest",
          "mapbox": {
           "style": "light"
          },
          "paper_bgcolor": "white",
          "plot_bgcolor": "#E5ECF6",
          "polar": {
           "angularaxis": {
            "gridcolor": "white",
            "linecolor": "white",
            "ticks": ""
           },
           "bgcolor": "#E5ECF6",
           "radialaxis": {
            "gridcolor": "white",
            "linecolor": "white",
            "ticks": ""
           }
          },
          "scene": {
           "xaxis": {
            "backgroundcolor": "#E5ECF6",
            "gridcolor": "white",
            "gridwidth": 2,
            "linecolor": "white",
            "showbackground": true,
            "ticks": "",
            "zerolinecolor": "white"
           },
           "yaxis": {
            "backgroundcolor": "#E5ECF6",
            "gridcolor": "white",
            "gridwidth": 2,
            "linecolor": "white",
            "showbackground": true,
            "ticks": "",
            "zerolinecolor": "white"
           },
           "zaxis": {
            "backgroundcolor": "#E5ECF6",
            "gridcolor": "white",
            "gridwidth": 2,
            "linecolor": "white",
            "showbackground": true,
            "ticks": "",
            "zerolinecolor": "white"
           }
          },
          "shapedefaults": {
           "line": {
            "color": "#2a3f5f"
           }
          },
          "ternary": {
           "aaxis": {
            "gridcolor": "white",
            "linecolor": "white",
            "ticks": ""
           },
           "baxis": {
            "gridcolor": "white",
            "linecolor": "white",
            "ticks": ""
           },
           "bgcolor": "#E5ECF6",
           "caxis": {
            "gridcolor": "white",
            "linecolor": "white",
            "ticks": ""
           }
          },
          "title": {
           "x": 0.05
          },
          "xaxis": {
           "automargin": true,
           "gridcolor": "white",
           "linecolor": "white",
           "ticks": "",
           "title": {
            "standoff": 15
           },
           "zerolinecolor": "white",
           "zerolinewidth": 2
          },
          "yaxis": {
           "automargin": true,
           "gridcolor": "white",
           "linecolor": "white",
           "ticks": "",
           "title": {
            "standoff": 15
           },
           "zerolinecolor": "white",
           "zerolinewidth": 2
          }
         }
        },
        "title": {
         "text": "Hotel Price and Distance Scatter Plot"
        },
        "xaxis": {
         "anchor": "y",
         "domain": [
          0,
          1
         ],
         "title": {
          "text": "price"
         }
        },
        "yaxis": {
         "anchor": "x",
         "domain": [
          0,
          1
         ],
         "title": {
          "text": "distance"
         }
        }
       }
      }
     },
     "metadata": {},
     "output_type": "display_data"
    }
   ],
   "source": [
    "location_input = 'Taipei'  # Replace with your desired location\n",
    "checkin_date_input = '2023-12-14'  # Replace with your desired check-in date\n",
    "checkout_date_input = '2023-12-15'  # Replace with your desired check-out date\n",
    "\n",
    "result = fetch_booking_data(location_input, checkin_date_input, checkout_date_input)\n",
    "\n"
   ]
  }
 ],
 "metadata": {
  "kernelspec": {
   "display_name": "Python 3",
   "language": "python",
   "name": "python3"
  },
  "language_info": {
   "codemirror_mode": {
    "name": "ipython",
    "version": 3
   },
   "file_extension": ".py",
   "mimetype": "text/x-python",
   "name": "python",
   "nbconvert_exporter": "python",
   "pygments_lexer": "ipython3",
   "version": "3.11.1"
  }
 },
 "nbformat": 4,
 "nbformat_minor": 2
}
